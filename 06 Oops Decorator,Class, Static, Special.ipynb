{
 "cells": [
  {
   "cell_type": "code",
   "execution_count": 46,
   "id": "7e50427b",
   "metadata": {},
   "outputs": [],
   "source": [
    "#decorator"
   ]
  },
  {
   "cell_type": "code",
   "execution_count": 47,
   "id": "c91f69ac",
   "metadata": {},
   "outputs": [],
   "source": [
    "def test():\n",
    "    print(\"this is my fun to test\")"
   ]
  },
  {
   "cell_type": "code",
   "execution_count": 48,
   "id": "b83d0fe5",
   "metadata": {},
   "outputs": [
    {
     "name": "stdout",
     "output_type": "stream",
     "text": [
      "this is my fun to test\n"
     ]
    }
   ],
   "source": [
    "test()"
   ]
  },
  {
   "cell_type": "code",
   "execution_count": 49,
   "id": "cc5ca332",
   "metadata": {},
   "outputs": [],
   "source": [
    "def test():\n",
    "    print(\"this is start fun\")\n",
    "    print(\"this is my fun to test\")\n",
    "    print(4+5)\n",
    "    print(\"this iis end\")"
   ]
  },
  {
   "cell_type": "code",
   "execution_count": 50,
   "id": "a768797a",
   "metadata": {},
   "outputs": [
    {
     "name": "stdout",
     "output_type": "stream",
     "text": [
      "this is start fun\n",
      "this is my fun to test\n",
      "9\n",
      "this iis end\n"
     ]
    }
   ],
   "source": [
    "test()"
   ]
  },
  {
   "cell_type": "code",
   "execution_count": 51,
   "id": "e2e7f066",
   "metadata": {},
   "outputs": [],
   "source": [
    "def deco(func):\n",
    "    def inner_dec():\n",
    "        print(\"this is start fun\")\n",
    "        func()\n",
    "        print(\"this iis end\")\n",
    "    return inner_dec\n",
    "        "
   ]
  },
  {
   "cell_type": "code",
   "execution_count": 52,
   "id": "d84c110b",
   "metadata": {},
   "outputs": [],
   "source": [
    "@deco\n",
    "def test1():\n",
    "    \n",
    "    print(6+7)"
   ]
  },
  {
   "cell_type": "code",
   "execution_count": 53,
   "id": "2ef6968f",
   "metadata": {},
   "outputs": [
    {
     "name": "stdout",
     "output_type": "stream",
     "text": [
      "this is start fun\n",
      "13\n",
      "this iis end\n"
     ]
    }
   ],
   "source": [
    "test1()"
   ]
  },
  {
   "cell_type": "code",
   "execution_count": 54,
   "id": "5feea5a7",
   "metadata": {},
   "outputs": [],
   "source": [
    "# decoration of function @deco"
   ]
  },
  {
   "cell_type": "code",
   "execution_count": 55,
   "id": "2d32e381",
   "metadata": {},
   "outputs": [],
   "source": [
    "import time \n",
    "\n",
    "def timer_test(func):\n",
    "    def timer_test_inner ():\n",
    "        start = time.time()\n",
    "        func()\n",
    "        end = time.time()\n",
    "        print(end - start)\n",
    "    return timer_test_inner"
   ]
  },
  {
   "cell_type": "code",
   "execution_count": 56,
   "id": "b799c4f0",
   "metadata": {},
   "outputs": [],
   "source": [
    "def test2():\n",
    "    print(45+78)"
   ]
  },
  {
   "cell_type": "code",
   "execution_count": 57,
   "id": "da95cedd",
   "metadata": {
    "scrolled": true
   },
   "outputs": [
    {
     "name": "stdout",
     "output_type": "stream",
     "text": [
      "123\n"
     ]
    }
   ],
   "source": [
    "test2()"
   ]
  },
  {
   "cell_type": "code",
   "execution_count": 58,
   "id": "1954e2e3",
   "metadata": {},
   "outputs": [],
   "source": [
    "@timer_test\n",
    "def test2():\n",
    "    print(45+78)"
   ]
  },
  {
   "cell_type": "code",
   "execution_count": 59,
   "id": "8d0ad1a6",
   "metadata": {},
   "outputs": [
    {
     "name": "stdout",
     "output_type": "stream",
     "text": [
      "123\n",
      "0.0\n"
     ]
    }
   ],
   "source": [
    "test2()"
   ]
  },
  {
   "cell_type": "code",
   "execution_count": 60,
   "id": "4795cc66",
   "metadata": {},
   "outputs": [],
   "source": [
    "@timer_test\n",
    "def test():\n",
    "    for i in range(100000000):\n",
    "        pass\n"
   ]
  },
  {
   "cell_type": "code",
   "execution_count": 61,
   "id": "7807a5b8",
   "metadata": {},
   "outputs": [
    {
     "name": "stdout",
     "output_type": "stream",
     "text": [
      "3.996614933013916\n"
     ]
    }
   ],
   "source": [
    "test()"
   ]
  },
  {
   "cell_type": "code",
   "execution_count": 62,
   "id": "b03a279a",
   "metadata": {},
   "outputs": [
    {
     "data": {
      "text/plain": [
       "37"
      ]
     },
     "execution_count": 62,
     "metadata": {},
     "output_type": "execute_result"
    }
   ],
   "source": [
    "12+22+3"
   ]
  },
  {
   "cell_type": "code",
   "execution_count": 63,
   "id": "40f7bcae",
   "metadata": {},
   "outputs": [
    {
     "data": {
      "text/plain": [
       "41"
      ]
     },
     "execution_count": 63,
     "metadata": {},
     "output_type": "execute_result"
    }
   ],
   "source": [
    "12+22+3+3+1"
   ]
  },
  {
   "cell_type": "code",
   "execution_count": 64,
   "id": "2d045253",
   "metadata": {},
   "outputs": [],
   "source": [
    "#Class method"
   ]
  },
  {
   "cell_type": "code",
   "execution_count": 1,
   "id": "b202774e",
   "metadata": {},
   "outputs": [],
   "source": [
    "class pwskills :\n",
    "    \n",
    "    def __init__(self , name , email):\n",
    "        \n",
    "        self.name = name\n",
    "        self.email = email\n",
    "        \n",
    "    def students_details(self):\n",
    "        print(self.name, self.email)"
   ]
  },
  {
   "cell_type": "code",
   "execution_count": 2,
   "id": "d8df1f1a",
   "metadata": {},
   "outputs": [],
   "source": [
    "pw = pwskills(\"ashraf\", \"ashu@gmail.com\")\n"
   ]
  },
  {
   "cell_type": "code",
   "execution_count": 3,
   "id": "c78f00e6",
   "metadata": {},
   "outputs": [
    {
     "data": {
      "text/plain": [
       "'ashraf'"
      ]
     },
     "execution_count": 3,
     "metadata": {},
     "output_type": "execute_result"
    }
   ],
   "source": [
    "pw.name"
   ]
  },
  {
   "cell_type": "code",
   "execution_count": 4,
   "id": "374499cc",
   "metadata": {},
   "outputs": [
    {
     "data": {
      "text/plain": [
       "'ashu@gmail.com'"
      ]
     },
     "execution_count": 4,
     "metadata": {},
     "output_type": "execute_result"
    }
   ],
   "source": [
    "pw.email"
   ]
  },
  {
   "cell_type": "code",
   "execution_count": 5,
   "id": "42aa0e23",
   "metadata": {},
   "outputs": [
    {
     "name": "stdout",
     "output_type": "stream",
     "text": [
      "ashraf ashu@gmail.com\n"
     ]
    }
   ],
   "source": [
    "pw.students_details()"
   ]
  },
  {
   "cell_type": "code",
   "execution_count": 13,
   "id": "fed96b3f",
   "metadata": {},
   "outputs": [],
   "source": [
    "class pwskills1 :\n",
    "    \n",
    "    def __init__(self , name , email):\n",
    "        \n",
    "        self.name = name\n",
    "        self.email = email\n",
    "    @classmethod\n",
    "    def details(cls , name, email):\n",
    "        return cls(name, email)\n",
    "    def students_details(self):\n",
    "        print(self.name, self.email)"
   ]
  },
  {
   "cell_type": "code",
   "execution_count": 71,
   "id": "20c74454",
   "metadata": {},
   "outputs": [],
   "source": [
    "pw1=pwskills1.details(\"ashu\", \"ashu@gmail.com\")"
   ]
  },
  {
   "cell_type": "code",
   "execution_count": 72,
   "id": "0aeb9f39",
   "metadata": {},
   "outputs": [
    {
     "data": {
      "text/plain": [
       "'ashu'"
      ]
     },
     "execution_count": 72,
     "metadata": {},
     "output_type": "execute_result"
    }
   ],
   "source": [
    "pw1.name"
   ]
  },
  {
   "cell_type": "code",
   "execution_count": 73,
   "id": "a71699be",
   "metadata": {},
   "outputs": [
    {
     "data": {
      "text/plain": [
       "'ashu@gmail.com'"
      ]
     },
     "execution_count": 73,
     "metadata": {},
     "output_type": "execute_result"
    }
   ],
   "source": [
    "pw1.email"
   ]
  },
  {
   "cell_type": "code",
   "execution_count": 74,
   "id": "1440d672",
   "metadata": {},
   "outputs": [],
   "source": [
    "class pwskills2 :\n",
    "    mobile_num = 7249828384\n",
    "    def __init__(self , name , email):\n",
    "        \n",
    "        self.name = name\n",
    "        self.email = email\n",
    "    @classmethod\n",
    "    def details(cls , name, email):\n",
    "        return cls(name, email)\n",
    "    def students_details(self):\n",
    "        print(self.name, self.email)"
   ]
  },
  {
   "cell_type": "code",
   "execution_count": 75,
   "id": "37ef4adf",
   "metadata": {},
   "outputs": [
    {
     "data": {
      "text/plain": [
       "7249828384"
      ]
     },
     "execution_count": 75,
     "metadata": {},
     "output_type": "execute_result"
    }
   ],
   "source": [
    "pwskills2.mobile_num \n"
   ]
  },
  {
   "cell_type": "code",
   "execution_count": 76,
   "id": "cfb78d98",
   "metadata": {},
   "outputs": [],
   "source": [
    "class pwskills2 :\n",
    "    mobile_num = 7249828384\n",
    "    def __init__(self , name , email):\n",
    "        \n",
    "        self.name = name\n",
    "        self.email = email\n",
    "    @classmethod    \n",
    "    def change_number(cls, mobile):\n",
    "        pwskills2.mobile_num = mobile\n",
    "    \n",
    "    @classmethod\n",
    "    def details(cls , name, email):\n",
    "        return cls(name, email)\n",
    "    def students_details(self):\n",
    "        print(self.name, self.email)"
   ]
  },
  {
   "cell_type": "code",
   "execution_count": 77,
   "id": "35deb1e5",
   "metadata": {},
   "outputs": [
    {
     "data": {
      "text/plain": [
       "7249828384"
      ]
     },
     "execution_count": 77,
     "metadata": {},
     "output_type": "execute_result"
    }
   ],
   "source": [
    "pwskills2.mobile_num"
   ]
  },
  {
   "cell_type": "code",
   "execution_count": 78,
   "id": "0523a9bb",
   "metadata": {},
   "outputs": [],
   "source": [
    "pwskills2.change_number(725448415)"
   ]
  },
  {
   "cell_type": "code",
   "execution_count": 79,
   "id": "fdfc915e",
   "metadata": {},
   "outputs": [
    {
     "data": {
      "text/plain": [
       "725448415"
      ]
     },
     "execution_count": 79,
     "metadata": {},
     "output_type": "execute_result"
    }
   ],
   "source": [
    "pwskills2.mobile_num"
   ]
  },
  {
   "cell_type": "code",
   "execution_count": 8,
   "id": "17dead30",
   "metadata": {},
   "outputs": [],
   "source": [
    "class pwskills2 :\n",
    "    mobile_num = 7249828384\n",
    "    def __init__(self , name , email):\n",
    "        \n",
    "        self.name = name\n",
    "        self.email = email\n",
    "    @classmethod    \n",
    "    def change_number(cls, mobile):\n",
    "        pwskills2.mobile_num = mobile\n",
    "    \n",
    "    @classmethod\n",
    "    def details(cls , name, email):\n",
    "        return cls(name, email)\n",
    "    def students_details(self):\n",
    "        print(self.name, self.email, pwskills2.mobile_num)"
   ]
  },
  {
   "cell_type": "code",
   "execution_count": 9,
   "id": "9bee9d14",
   "metadata": {},
   "outputs": [],
   "source": [
    "pw = pwskills2.details(\"rohan\", \"rogan@gmail.com\")"
   ]
  },
  {
   "cell_type": "code",
   "execution_count": 10,
   "id": "546e8129",
   "metadata": {},
   "outputs": [
    {
     "name": "stdout",
     "output_type": "stream",
     "text": [
      "rohan rogan@gmail.com 7249828384\n"
     ]
    }
   ],
   "source": [
    "pw.students_details()"
   ]
  },
  {
   "cell_type": "code",
   "execution_count": 12,
   "id": "53f4b668",
   "metadata": {},
   "outputs": [
    {
     "data": {
      "text/plain": [
       "<__main__.pwskills2 at 0x1f0ebfb2670>"
      ]
     },
     "execution_count": 12,
     "metadata": {},
     "output_type": "execute_result"
    }
   ],
   "source": [
    "pw.details(\"rohan\", \"rogan@gmail.com\")"
   ]
  },
  {
   "cell_type": "code",
   "execution_count": null,
   "id": "3d083677",
   "metadata": {},
   "outputs": [],
   "source": []
  },
  {
   "cell_type": "code",
   "execution_count": 83,
   "id": "8b70bdc3",
   "metadata": {},
   "outputs": [],
   "source": [
    "pw_obj = pwskills2(\"ash\",\"ash@gmail\" )"
   ]
  },
  {
   "cell_type": "code",
   "execution_count": 84,
   "id": "2ea60b47",
   "metadata": {},
   "outputs": [
    {
     "name": "stdout",
     "output_type": "stream",
     "text": [
      "ash ash@gmail 7249828384\n"
     ]
    }
   ],
   "source": [
    "pw_obj.students_details()"
   ]
  },
  {
   "cell_type": "code",
   "execution_count": 85,
   "id": "cd9e8ed8",
   "metadata": {},
   "outputs": [],
   "source": [
    "pwskills2.change_number(321654789)"
   ]
  },
  {
   "cell_type": "code",
   "execution_count": 86,
   "id": "3dc91435",
   "metadata": {},
   "outputs": [
    {
     "data": {
      "text/plain": [
       "321654789"
      ]
     },
     "execution_count": 86,
     "metadata": {},
     "output_type": "execute_result"
    }
   ],
   "source": [
    "pwskills2.mobile_num"
   ]
  },
  {
   "cell_type": "code",
   "execution_count": 87,
   "id": "6ae6363c",
   "metadata": {},
   "outputs": [],
   "source": [
    "#concept of overloading"
   ]
  },
  {
   "cell_type": "code",
   "execution_count": null,
   "id": "00f887fb",
   "metadata": {},
   "outputs": [],
   "source": []
  },
  {
   "cell_type": "code",
   "execution_count": 88,
   "id": "102feba5",
   "metadata": {},
   "outputs": [],
   "source": [
    "class pwskills3 :\n",
    "    mobile_num = 7249828384\n",
    "    def __init__(self , name , email):\n",
    "        \n",
    "        self.name = name\n",
    "        self.email = email\n",
    "    @classmethod    \n",
    "    def change_number(cls, mobile):\n",
    "        pwskills2.mobile_num = mobile\n",
    "    \n",
    "    @classmethod\n",
    "    def details(cls , name, email):\n",
    "        return cls(name, email)\n",
    "    def students_details(self):\n",
    "        print(self.name, self.email, pwskills2.mobile_num)"
   ]
  },
  {
   "cell_type": "code",
   "execution_count": 92,
   "id": "f9fa27bf",
   "metadata": {},
   "outputs": [],
   "source": [
    "def course_details(cls, course_name):\n",
    "    print(\"course name is \" , course_name)"
   ]
  },
  {
   "cell_type": "code",
   "execution_count": 93,
   "id": "c73ef4d2",
   "metadata": {},
   "outputs": [],
   "source": [
    "pwskills3.course_details = classmethod(course_details)"
   ]
  },
  {
   "cell_type": "code",
   "execution_count": 94,
   "id": "7562b913",
   "metadata": {},
   "outputs": [
    {
     "name": "stdout",
     "output_type": "stream",
     "text": [
      "course name is   data science\n"
     ]
    }
   ],
   "source": [
    "pwskills3.course_details(\" data science\")"
   ]
  },
  {
   "cell_type": "code",
   "execution_count": 97,
   "id": "b3554dd5",
   "metadata": {},
   "outputs": [],
   "source": [
    "def mentor(cls, list_of_mentor):\n",
    "    print(list_of_mentor)"
   ]
  },
  {
   "cell_type": "code",
   "execution_count": 98,
   "id": "caa9a0d4",
   "metadata": {},
   "outputs": [],
   "source": [
    "pwskills3.mentor = classmethod(mentor)"
   ]
  },
  {
   "cell_type": "code",
   "execution_count": 99,
   "id": "cb0ae18f",
   "metadata": {},
   "outputs": [
    {
     "name": "stdout",
     "output_type": "stream",
     "text": [
      "['ashraf', 'krish']\n"
     ]
    }
   ],
   "source": [
    "pwskills3.mentor([\"ashraf\", \"krish\"])"
   ]
  },
  {
   "cell_type": "code",
   "execution_count": 101,
   "id": "a11e8a7a",
   "metadata": {},
   "outputs": [],
   "source": [
    "class pwskills4 :\n",
    "    mobile_num = 7249828384\n",
    "    def __init__(self , name , email):\n",
    "        \n",
    "        self.name = name\n",
    "        self.email = email\n",
    "    @classmethod    \n",
    "    def change_number(cls, mobile):\n",
    "        pwskills2.mobile_num = mobile\n",
    "    \n",
    "    @classmethod\n",
    "    def details(cls , name, email):\n",
    "        return cls(name, email)\n",
    "    def students_details(self):\n",
    "        print(self.name, self.email, pwskills2.mobile_num)"
   ]
  },
  {
   "cell_type": "code",
   "execution_count": 102,
   "id": "0a8ee26b",
   "metadata": {},
   "outputs": [],
   "source": [
    "del pwskills4.change_number"
   ]
  },
  {
   "cell_type": "code",
   "execution_count": 104,
   "id": "d40e45a0",
   "metadata": {},
   "outputs": [],
   "source": [
    "delattr(pwskills4, \"details\")"
   ]
  },
  {
   "cell_type": "code",
   "execution_count": 106,
   "id": "48285365",
   "metadata": {},
   "outputs": [],
   "source": [
    "delattr(pwskills4, \"students_details\")"
   ]
  },
  {
   "cell_type": "code",
   "execution_count": null,
   "id": "15cd8c98",
   "metadata": {},
   "outputs": [],
   "source": [
    "elattr(pwskills4, \"mobile_num\")"
   ]
  },
  {
   "cell_type": "code",
   "execution_count": null,
   "id": "12000903",
   "metadata": {},
   "outputs": [],
   "source": []
  },
  {
   "cell_type": "code",
   "execution_count": null,
   "id": "679e1a1e",
   "metadata": {},
   "outputs": [],
   "source": []
  },
  {
   "cell_type": "code",
   "execution_count": 103,
   "id": "80b32b4f",
   "metadata": {},
   "outputs": [
    {
     "ename": "AttributeError",
     "evalue": "type object 'pwskills4' has no attribute 'change_number'",
     "output_type": "error",
     "traceback": [
      "\u001b[1;31m---------------------------------------------------------------------------\u001b[0m",
      "\u001b[1;31mAttributeError\u001b[0m                            Traceback (most recent call last)",
      "\u001b[1;32m~\\AppData\\Local\\Temp/ipykernel_8880/3389493742.py\u001b[0m in \u001b[0;36m<module>\u001b[1;34m\u001b[0m\n\u001b[1;32m----> 1\u001b[1;33m \u001b[0mpwskills4\u001b[0m\u001b[1;33m.\u001b[0m\u001b[0mchange_number\u001b[0m\u001b[1;33m(\u001b[0m\u001b[1;36m27865765474\u001b[0m\u001b[1;33m)\u001b[0m\u001b[1;33m\u001b[0m\u001b[1;33m\u001b[0m\u001b[0m\n\u001b[0m",
      "\u001b[1;31mAttributeError\u001b[0m: type object 'pwskills4' has no attribute 'change_number'"
     ]
    }
   ],
   "source": [
    "pwskills4.change_number(27865765474)"
   ]
  },
  {
   "cell_type": "code",
   "execution_count": 1,
   "id": "0627ad6b",
   "metadata": {},
   "outputs": [],
   "source": [
    "#static methods"
   ]
  },
  {
   "cell_type": "code",
   "execution_count": 2,
   "id": "eb5e3533",
   "metadata": {},
   "outputs": [],
   "source": [
    "class pwskills:\n",
    "    def student_details(self, name, mail_id, number):\n",
    "        print(name, mail_id, number)"
   ]
  },
  {
   "cell_type": "code",
   "execution_count": 4,
   "id": "a81ed398",
   "metadata": {},
   "outputs": [],
   "source": [
    "pw=pwskills()"
   ]
  },
  {
   "cell_type": "code",
   "execution_count": 5,
   "id": "c887fd4e",
   "metadata": {},
   "outputs": [
    {
     "name": "stdout",
     "output_type": "stream",
     "text": [
      "ashraf ashu@gmail.com 87598479\n"
     ]
    }
   ],
   "source": [
    "pw.student_details(\"ashraf\", \"ashu@gmail.com\", 87598479)"
   ]
  },
  {
   "cell_type": "code",
   "execution_count": 6,
   "id": "8a3f96dd",
   "metadata": {},
   "outputs": [],
   "source": [
    "class pwskills1:\n",
    "    def student_details(self, name, mail_id, number):\n",
    "        print(name, mail_id, number)\n",
    "    \n",
    "    @staticmethod \n",
    "\n",
    "    def mentor_class(list_mentor):\n",
    "        print(list_mentor)"
   ]
  },
  {
   "cell_type": "code",
   "execution_count": 7,
   "id": "675cb81b",
   "metadata": {},
   "outputs": [
    {
     "name": "stdout",
     "output_type": "stream",
     "text": [
      "['ashraf', 'amritesh']\n"
     ]
    }
   ],
   "source": [
    "pwskills1.mentor_class([\"ashraf\", \"amritesh\"])"
   ]
  },
  {
   "cell_type": "code",
   "execution_count": 8,
   "id": "9f8f5413",
   "metadata": {},
   "outputs": [],
   "source": [
    "stu1 = pwskills1()"
   ]
  },
  {
   "cell_type": "code",
   "execution_count": 12,
   "id": "d7f119fd",
   "metadata": {},
   "outputs": [],
   "source": [
    "stu2 = pwskills1()"
   ]
  },
  {
   "cell_type": "code",
   "execution_count": 11,
   "id": "d59a661f",
   "metadata": {},
   "outputs": [],
   "source": [
    "stu3 = pwskills1()"
   ]
  },
  {
   "cell_type": "code",
   "execution_count": 13,
   "id": "ff58ea08",
   "metadata": {},
   "outputs": [],
   "source": [
    "class pwskills1:\n",
    "    def student_details(self, name, mail_id, number):\n",
    "        print(name, mail_id, number)\n",
    "    \n",
    "    @staticmethod \n",
    "    def mentor_class(list_mentor):\n",
    "        print(list_mentor)\n",
    "        \n",
    "    def mentor(self,mentor_list):\n",
    "        print(mentor_list)"
   ]
  },
  {
   "cell_type": "code",
   "execution_count": 14,
   "id": "4a908207",
   "metadata": {},
   "outputs": [
    {
     "name": "stdout",
     "output_type": "stream",
     "text": [
      "['ashraf', 'amritesh']\n"
     ]
    }
   ],
   "source": [
    "pwskills1.mentor_class([\"ashraf\", pwskills1.mentor_class([\"ashraf\", \"amritesh\"])"
   ]
  },
  {
   "cell_type": "code",
   "execution_count": 15,
   "id": "e1127fc2",
   "metadata": {},
   "outputs": [],
   "source": [
    "stu1 = pwskills1()"
   ]
  },
  {
   "cell_type": "code",
   "execution_count": 16,
   "id": "ee16b071",
   "metadata": {},
   "outputs": [],
   "source": [
    "stu2 = pwskills1()"
   ]
  },
  {
   "cell_type": "code",
   "execution_count": 18,
   "id": "57093bba",
   "metadata": {},
   "outputs": [],
   "source": [
    "stu3 = pwskills1()"
   ]
  },
  {
   "cell_type": "code",
   "execution_count": 21,
   "id": "e2e48326",
   "metadata": {},
   "outputs": [
    {
     "name": "stdout",
     "output_type": "stream",
     "text": [
      "['ashraf', 'amritesh']\n"
     ]
    }
   ],
   "source": [
    "stu1.mentor([\"ashraf\", \"amritesh\"])"
   ]
  },
  {
   "cell_type": "code",
   "execution_count": 22,
   "id": "bae05a22",
   "metadata": {},
   "outputs": [
    {
     "name": "stdout",
     "output_type": "stream",
     "text": [
      "['ashu', 'sai']\n"
     ]
    }
   ],
   "source": [
    "stu2.mentor([\"ashu\", \"sai\"])"
   ]
  },
  {
   "cell_type": "code",
   "execution_count": 31,
   "id": "472878ff",
   "metadata": {},
   "outputs": [],
   "source": [
    "class pwskills2:\n",
    "    def student_details(self, name, mail_id, number):\n",
    "        print(name, mail_id, number)\n",
    "    \n",
    "    @staticmethod \n",
    "    def mentor_class(list_mentor):\n",
    "        print(list_mentor)\n",
    "    \n",
    "    @classmethod\n",
    "    def class_name(cls):\n",
    "        cls.mentor_class([\"Ashraf\", \"sayyad\"])\n",
    "        \n",
    "    def mentor(self,mentor_list):\n",
    "        print(mentor_list)\n",
    "        \n",
    "        "
   ]
  },
  {
   "cell_type": "code",
   "execution_count": 32,
   "id": "75f76321",
   "metadata": {},
   "outputs": [
    {
     "name": "stdout",
     "output_type": "stream",
     "text": [
      "['Ashraf', 'sayyad']\n"
     ]
    }
   ],
   "source": [
    "pwskills2.class_name()"
   ]
  },
  {
   "cell_type": "code",
   "execution_count": 43,
   "id": "93b0518e",
   "metadata": {},
   "outputs": [],
   "source": [
    "class pwskills2:\n",
    "    def student_details(self, name, mail_id, number):\n",
    "        print(name, mail_id, number)\n",
    "    @staticmethod\n",
    "    def mentor_mail_id(mail_id_mentor) :\n",
    "        print(mail_id_mentor)\n",
    "        \n",
    "    @staticmethod \n",
    "    def mentor_class(list_mentor):\n",
    "        pwskills2.mentor_mail_id([\"ashraf@gmail.com\",\"sayyad@gmail.com\" ])\n",
    "        print(list_mentor)\n",
    "    \n",
    "    @classmethod\n",
    "    def class_name(cls):\n",
    "        cls.mentor_class([\"Ashraf\", \"sayyad\"])\n",
    "        \n",
    "    def mentor(self,mentor_list):\n",
    "        print(mentor_list)\n",
    "        sef.mentor_class([\"sayyad\" ,\"Ashraf\"])\n",
    "        "
   ]
  },
  {
   "cell_type": "code",
   "execution_count": 44,
   "id": "33d19653",
   "metadata": {},
   "outputs": [
    {
     "name": "stdout",
     "output_type": "stream",
     "text": [
      "['ashraf@gmail.com', 'sayyad@gmail.com']\n",
      "['sayyad', 'Ashraf']\n"
     ]
    }
   ],
   "source": [
    "pwskills2.mentor_class([\"sayyad\" ,\"Ashraf\"])"
   ]
  },
  {
   "cell_type": "code",
   "execution_count": 41,
   "id": "cb34655d",
   "metadata": {},
   "outputs": [
    {
     "name": "stdout",
     "output_type": "stream",
     "text": [
      "['ashraf@gmail.com', 'sayyad@gmail.com']\n",
      "['Ashraf', 'sayyad']\n"
     ]
    }
   ],
   "source": [
    "pwskills2.class_name()"
   ]
  },
  {
   "cell_type": "code",
   "execution_count": 45,
   "id": "ff0788fe",
   "metadata": {},
   "outputs": [
    {
     "ename": "AttributeError",
     "evalue": "'pwskills' object has no attribute 'mentor'",
     "output_type": "error",
     "traceback": [
      "\u001b[1;31m---------------------------------------------------------------------------\u001b[0m",
      "\u001b[1;31mAttributeError\u001b[0m                            Traceback (most recent call last)",
      "\u001b[1;32m~\\AppData\\Local\\Temp/ipykernel_22412/1288673438.py\u001b[0m in \u001b[0;36m<module>\u001b[1;34m\u001b[0m\n\u001b[1;32m----> 1\u001b[1;33m \u001b[0mpw\u001b[0m\u001b[1;33m.\u001b[0m\u001b[0mmentor\u001b[0m\u001b[1;33m(\u001b[0m\u001b[1;33m[\u001b[0m\u001b[1;34m\"sayyad\"\u001b[0m\u001b[1;33m,\u001b[0m \u001b[1;34m\"Ashraf\"\u001b[0m\u001b[1;33m]\u001b[0m\u001b[1;33m)\u001b[0m\u001b[1;33m\u001b[0m\u001b[1;33m\u001b[0m\u001b[0m\n\u001b[0m",
      "\u001b[1;31mAttributeError\u001b[0m: 'pwskills' object has no attribute 'mentor'"
     ]
    }
   ],
   "source": [
    "pw.mentor([\"sayyad\", \"Ashraf\"])"
   ]
  },
  {
   "cell_type": "code",
   "execution_count": 1,
   "id": "8ac7a5cd",
   "metadata": {},
   "outputs": [],
   "source": [
    "#Special (Magic or Dunder) Method"
   ]
  },
  {
   "cell_type": "code",
   "execution_count": 2,
   "id": "046f97e7",
   "metadata": {},
   "outputs": [
    {
     "data": {
      "text/plain": [
       "['__abs__',\n",
       " '__add__',\n",
       " '__and__',\n",
       " '__bool__',\n",
       " '__ceil__',\n",
       " '__class__',\n",
       " '__delattr__',\n",
       " '__dir__',\n",
       " '__divmod__',\n",
       " '__doc__',\n",
       " '__eq__',\n",
       " '__float__',\n",
       " '__floor__',\n",
       " '__floordiv__',\n",
       " '__format__',\n",
       " '__ge__',\n",
       " '__getattribute__',\n",
       " '__getnewargs__',\n",
       " '__gt__',\n",
       " '__hash__',\n",
       " '__index__',\n",
       " '__init__',\n",
       " '__init_subclass__',\n",
       " '__int__',\n",
       " '__invert__',\n",
       " '__le__',\n",
       " '__lshift__',\n",
       " '__lt__',\n",
       " '__mod__',\n",
       " '__mul__',\n",
       " '__ne__',\n",
       " '__neg__',\n",
       " '__new__',\n",
       " '__or__',\n",
       " '__pos__',\n",
       " '__pow__',\n",
       " '__radd__',\n",
       " '__rand__',\n",
       " '__rdivmod__',\n",
       " '__reduce__',\n",
       " '__reduce_ex__',\n",
       " '__repr__',\n",
       " '__rfloordiv__',\n",
       " '__rlshift__',\n",
       " '__rmod__',\n",
       " '__rmul__',\n",
       " '__ror__',\n",
       " '__round__',\n",
       " '__rpow__',\n",
       " '__rrshift__',\n",
       " '__rshift__',\n",
       " '__rsub__',\n",
       " '__rtruediv__',\n",
       " '__rxor__',\n",
       " '__setattr__',\n",
       " '__sizeof__',\n",
       " '__str__',\n",
       " '__sub__',\n",
       " '__subclasshook__',\n",
       " '__truediv__',\n",
       " '__trunc__',\n",
       " '__xor__',\n",
       " 'as_integer_ratio',\n",
       " 'bit_length',\n",
       " 'conjugate',\n",
       " 'denominator',\n",
       " 'from_bytes',\n",
       " 'imag',\n",
       " 'numerator',\n",
       " 'real',\n",
       " 'to_bytes']"
      ]
     },
     "execution_count": 2,
     "metadata": {},
     "output_type": "execute_result"
    }
   ],
   "source": [
    "dir(int)"
   ]
  },
  {
   "cell_type": "code",
   "execution_count": 3,
   "id": "05d29201",
   "metadata": {},
   "outputs": [
    {
     "data": {
      "text/plain": [
       "['__add__',\n",
       " '__class__',\n",
       " '__contains__',\n",
       " '__delattr__',\n",
       " '__dir__',\n",
       " '__doc__',\n",
       " '__eq__',\n",
       " '__format__',\n",
       " '__ge__',\n",
       " '__getattribute__',\n",
       " '__getitem__',\n",
       " '__getnewargs__',\n",
       " '__gt__',\n",
       " '__hash__',\n",
       " '__init__',\n",
       " '__init_subclass__',\n",
       " '__iter__',\n",
       " '__le__',\n",
       " '__len__',\n",
       " '__lt__',\n",
       " '__mod__',\n",
       " '__mul__',\n",
       " '__ne__',\n",
       " '__new__',\n",
       " '__reduce__',\n",
       " '__reduce_ex__',\n",
       " '__repr__',\n",
       " '__rmod__',\n",
       " '__rmul__',\n",
       " '__setattr__',\n",
       " '__sizeof__',\n",
       " '__str__',\n",
       " '__subclasshook__',\n",
       " 'capitalize',\n",
       " 'casefold',\n",
       " 'center',\n",
       " 'count',\n",
       " 'encode',\n",
       " 'endswith',\n",
       " 'expandtabs',\n",
       " 'find',\n",
       " 'format',\n",
       " 'format_map',\n",
       " 'index',\n",
       " 'isalnum',\n",
       " 'isalpha',\n",
       " 'isascii',\n",
       " 'isdecimal',\n",
       " 'isdigit',\n",
       " 'isidentifier',\n",
       " 'islower',\n",
       " 'isnumeric',\n",
       " 'isprintable',\n",
       " 'isspace',\n",
       " 'istitle',\n",
       " 'isupper',\n",
       " 'join',\n",
       " 'ljust',\n",
       " 'lower',\n",
       " 'lstrip',\n",
       " 'maketrans',\n",
       " 'partition',\n",
       " 'removeprefix',\n",
       " 'removesuffix',\n",
       " 'replace',\n",
       " 'rfind',\n",
       " 'rindex',\n",
       " 'rjust',\n",
       " 'rpartition',\n",
       " 'rsplit',\n",
       " 'rstrip',\n",
       " 'split',\n",
       " 'splitlines',\n",
       " 'startswith',\n",
       " 'strip',\n",
       " 'swapcase',\n",
       " 'title',\n",
       " 'translate',\n",
       " 'upper',\n",
       " 'zfill']"
      ]
     },
     "execution_count": 3,
     "metadata": {},
     "output_type": "execute_result"
    }
   ],
   "source": [
    "dir(str)"
   ]
  },
  {
   "cell_type": "code",
   "execution_count": 4,
   "id": "8e61ccb7",
   "metadata": {},
   "outputs": [],
   "source": [
    "a= 100"
   ]
  },
  {
   "cell_type": "code",
   "execution_count": 5,
   "id": "8d77aa1a",
   "metadata": {},
   "outputs": [
    {
     "data": {
      "text/plain": [
       "105"
      ]
     },
     "execution_count": 5,
     "metadata": {},
     "output_type": "execute_result"
    }
   ],
   "source": [
    "a+5"
   ]
  },
  {
   "cell_type": "code",
   "execution_count": 6,
   "id": "10ea19d1",
   "metadata": {},
   "outputs": [
    {
     "data": {
      "text/plain": [
       "105"
      ]
     },
     "execution_count": 6,
     "metadata": {},
     "output_type": "execute_result"
    }
   ],
   "source": [
    "a.__add__(5)"
   ]
  },
  {
   "cell_type": "code",
   "execution_count": 7,
   "id": "db9010f7",
   "metadata": {},
   "outputs": [],
   "source": [
    "class pwskills :\n",
    "    def __init__(self):\n",
    "        self.mobile_num = 37645788"
   ]
  },
  {
   "cell_type": "code",
   "execution_count": 8,
   "id": "67cd8823",
   "metadata": {},
   "outputs": [],
   "source": [
    "pw = pwskills()"
   ]
  },
  {
   "cell_type": "code",
   "execution_count": 9,
   "id": "a7c678e8",
   "metadata": {},
   "outputs": [
    {
     "data": {
      "text/plain": [
       "37645788"
      ]
     },
     "execution_count": 9,
     "metadata": {},
     "output_type": "execute_result"
    }
   ],
   "source": [
    "pw.mobile_num"
   ]
  },
  {
   "cell_type": "code",
   "execution_count": 19,
   "id": "eb0fc2b2",
   "metadata": {},
   "outputs": [],
   "source": [
    "class pwskills :\n",
    "    \n",
    "    #def __new__(cls):\n",
    "       \n",
    "\n",
    "    def __init__(self):\n",
    "        print(\"this is my init\")\n",
    "        self.mobile_num = 37645788"
   ]
  },
  {
   "cell_type": "code",
   "execution_count": 20,
   "id": "bd7bcf8d",
   "metadata": {},
   "outputs": [
    {
     "name": "stdout",
     "output_type": "stream",
     "text": [
      "this is my init\n"
     ]
    }
   ],
   "source": [
    "pw = pwskills()"
   ]
  },
  {
   "cell_type": "code",
   "execution_count": 21,
   "id": "396a1cae",
   "metadata": {},
   "outputs": [
    {
     "data": {
      "text/plain": [
       "37645788"
      ]
     },
     "execution_count": 21,
     "metadata": {},
     "output_type": "execute_result"
    }
   ],
   "source": [
    "pw.mobile_num"
   ]
  },
  {
   "cell_type": "code",
   "execution_count": 22,
   "id": "e5d373ec",
   "metadata": {},
   "outputs": [],
   "source": [
    "class pwskills :\n",
    "    \n",
    "    def __new__(cls):\n",
    "        print(\"this is my new\")\n",
    "\n",
    "    def __init__(self):\n",
    "        print(\"this is my init\")\n",
    "        self.mobile_num = 37645788"
   ]
  },
  {
   "cell_type": "code",
   "execution_count": 23,
   "id": "38b102d3",
   "metadata": {},
   "outputs": [
    {
     "name": "stdout",
     "output_type": "stream",
     "text": [
      "this is my new\n"
     ]
    }
   ],
   "source": [
    "pw = pwskills()"
   ]
  },
  {
   "cell_type": "code",
   "execution_count": 26,
   "id": "15775103",
   "metadata": {},
   "outputs": [],
   "source": [
    "#magic function"
   ]
  },
  {
   "cell_type": "code",
   "execution_count": 39,
   "id": "1734d114",
   "metadata": {},
   "outputs": [],
   "source": [
    "class pwskills1 :\n",
    "  \n",
    "    def __init__(self):\n",
    "       \n",
    "        self.mobile_num = 37645788"
   ]
  },
  {
   "cell_type": "code",
   "execution_count": 40,
   "id": "094eac4a",
   "metadata": {},
   "outputs": [],
   "source": [
    "pw1 = pwskills1()"
   ]
  },
  {
   "cell_type": "code",
   "execution_count": 41,
   "id": "17209220",
   "metadata": {},
   "outputs": [
    {
     "data": {
      "text/plain": [
       "<__main__.pwskills1 at 0x1ea86011f10>"
      ]
     },
     "execution_count": 41,
     "metadata": {},
     "output_type": "execute_result"
    }
   ],
   "source": [
    "pw1"
   ]
  },
  {
   "cell_type": "code",
   "execution_count": 49,
   "id": "5c631da2",
   "metadata": {},
   "outputs": [],
   "source": [
    "class pwskills1 :\n",
    "  \n",
    "    def __init__(self):\n",
    "       \n",
    "        self.mobile_num = 37645788\n",
    "        \n",
    "    def __str__(self):\n",
    "        return\"this is my magic call str\""
   ]
  },
  {
   "cell_type": "code",
   "execution_count": 50,
   "id": "04ee1797",
   "metadata": {},
   "outputs": [],
   "source": [
    "pw1 = pwskills1()"
   ]
  },
  {
   "cell_type": "code",
   "execution_count": 51,
   "id": "f948a9f6",
   "metadata": {},
   "outputs": [
    {
     "data": {
      "text/plain": [
       "<__main__.pwskills1 at 0x1ea8610c460>"
      ]
     },
     "execution_count": 51,
     "metadata": {},
     "output_type": "execute_result"
    }
   ],
   "source": [
    "pw1"
   ]
  },
  {
   "cell_type": "code",
   "execution_count": 52,
   "id": "2aae974a",
   "metadata": {},
   "outputs": [
    {
     "name": "stdout",
     "output_type": "stream",
     "text": [
      "this is my magic call str\n"
     ]
    }
   ],
   "source": [
    "print(pw1)"
   ]
  },
  {
   "cell_type": "code",
   "execution_count": 53,
   "id": "41382ae4",
   "metadata": {},
   "outputs": [],
   "source": [
    "class pwskills1 :\n",
    "  \n",
    "    def __init__(self):\n",
    "       \n",
    "        self.mobile_num = 37645788\n",
    "        \n",
    "    #def __str__(self):\n",
    "       # return\"this is my magic call str\""
   ]
  },
  {
   "cell_type": "code",
   "execution_count": 54,
   "id": "3f3efdbf",
   "metadata": {},
   "outputs": [],
   "source": [
    "pw1 = pwskills1()"
   ]
  },
  {
   "cell_type": "code",
   "execution_count": 55,
   "id": "1784ca6a",
   "metadata": {},
   "outputs": [
    {
     "data": {
      "text/plain": [
       "<__main__.pwskills1 at 0x1ea8610c310>"
      ]
     },
     "execution_count": 55,
     "metadata": {},
     "output_type": "execute_result"
    }
   ],
   "source": [
    "pw1"
   ]
  },
  {
   "cell_type": "code",
   "execution_count": 56,
   "id": "92621426",
   "metadata": {},
   "outputs": [
    {
     "name": "stdout",
     "output_type": "stream",
     "text": [
      "<__main__.pwskills1 object at 0x000001EA8610C310>\n"
     ]
    }
   ],
   "source": [
    "print(pw1)"
   ]
  },
  {
   "cell_type": "code",
   "execution_count": 57,
   "id": "e8a8a24a",
   "metadata": {},
   "outputs": [
    {
     "data": {
      "text/plain": [
       "['__add__',\n",
       " '__class__',\n",
       " '__class_getitem__',\n",
       " '__contains__',\n",
       " '__delattr__',\n",
       " '__dir__',\n",
       " '__doc__',\n",
       " '__eq__',\n",
       " '__format__',\n",
       " '__ge__',\n",
       " '__getattribute__',\n",
       " '__getitem__',\n",
       " '__getnewargs__',\n",
       " '__gt__',\n",
       " '__hash__',\n",
       " '__init__',\n",
       " '__init_subclass__',\n",
       " '__iter__',\n",
       " '__le__',\n",
       " '__len__',\n",
       " '__lt__',\n",
       " '__mul__',\n",
       " '__ne__',\n",
       " '__new__',\n",
       " '__reduce__',\n",
       " '__reduce_ex__',\n",
       " '__repr__',\n",
       " '__rmul__',\n",
       " '__setattr__',\n",
       " '__sizeof__',\n",
       " '__str__',\n",
       " '__subclasshook__',\n",
       " 'count',\n",
       " 'index']"
      ]
     },
     "execution_count": 57,
     "metadata": {},
     "output_type": "execute_result"
    }
   ],
   "source": [
    "dir(tuple)"
   ]
  },
  {
   "cell_type": "code",
   "execution_count": 58,
   "id": "66597e72",
   "metadata": {},
   "outputs": [
    {
     "data": {
      "text/plain": [
       "['__add__',\n",
       " '__class__',\n",
       " '__class_getitem__',\n",
       " '__contains__',\n",
       " '__delattr__',\n",
       " '__delitem__',\n",
       " '__dir__',\n",
       " '__doc__',\n",
       " '__eq__',\n",
       " '__format__',\n",
       " '__ge__',\n",
       " '__getattribute__',\n",
       " '__getitem__',\n",
       " '__gt__',\n",
       " '__hash__',\n",
       " '__iadd__',\n",
       " '__imul__',\n",
       " '__init__',\n",
       " '__init_subclass__',\n",
       " '__iter__',\n",
       " '__le__',\n",
       " '__len__',\n",
       " '__lt__',\n",
       " '__mul__',\n",
       " '__ne__',\n",
       " '__new__',\n",
       " '__reduce__',\n",
       " '__reduce_ex__',\n",
       " '__repr__',\n",
       " '__reversed__',\n",
       " '__rmul__',\n",
       " '__setattr__',\n",
       " '__setitem__',\n",
       " '__sizeof__',\n",
       " '__str__',\n",
       " '__subclasshook__',\n",
       " 'append',\n",
       " 'clear',\n",
       " 'copy',\n",
       " 'count',\n",
       " 'extend',\n",
       " 'index',\n",
       " 'insert',\n",
       " 'pop',\n",
       " 'remove',\n",
       " 'reverse',\n",
       " 'sort']"
      ]
     },
     "execution_count": 58,
     "metadata": {},
     "output_type": "execute_result"
    }
   ],
   "source": [
    "dir(list)"
   ]
  },
  {
   "cell_type": "code",
   "execution_count": null,
   "id": "78e9527d",
   "metadata": {},
   "outputs": [],
   "source": []
  },
  {
   "cell_type": "code",
   "execution_count": 59,
   "id": "d05e28ee",
   "metadata": {},
   "outputs": [],
   "source": [
    "#  Property Decorators Getters, Setters, And Deletes"
   ]
  },
  {
   "cell_type": "code",
   "execution_count": 63,
   "id": "58cea8f6",
   "metadata": {},
   "outputs": [],
   "source": [
    "class pwskills:\n",
    "    def __init__(self, price, course):\n",
    "        self.__price = price\n",
    "        self.course = course"
   ]
  },
  {
   "cell_type": "code",
   "execution_count": 64,
   "id": "0ca2c8bc",
   "metadata": {},
   "outputs": [],
   "source": [
    "pw = pwskills(3500, \"DSM\")"
   ]
  },
  {
   "cell_type": "code",
   "execution_count": 65,
   "id": "ef51d3bd",
   "metadata": {},
   "outputs": [
    {
     "ename": "AttributeError",
     "evalue": "'pwskills' object has no attribute '__price'",
     "output_type": "error",
     "traceback": [
      "\u001b[1;31m---------------------------------------------------------------------------\u001b[0m",
      "\u001b[1;31mAttributeError\u001b[0m                            Traceback (most recent call last)",
      "\u001b[1;32m~\\AppData\\Local\\Temp/ipykernel_33024/3090193479.py\u001b[0m in \u001b[0;36m<module>\u001b[1;34m\u001b[0m\n\u001b[1;32m----> 1\u001b[1;33m \u001b[0mpw\u001b[0m\u001b[1;33m.\u001b[0m\u001b[0m__price\u001b[0m\u001b[1;33m\u001b[0m\u001b[1;33m\u001b[0m\u001b[0m\n\u001b[0m",
      "\u001b[1;31mAttributeError\u001b[0m: 'pwskills' object has no attribute '__price'"
     ]
    }
   ],
   "source": [
    "pw.__price"
   ]
  },
  {
   "cell_type": "code",
   "execution_count": 66,
   "id": "db1a231a",
   "metadata": {},
   "outputs": [
    {
     "data": {
      "text/plain": [
       "3500"
      ]
     },
     "execution_count": 66,
     "metadata": {},
     "output_type": "execute_result"
    }
   ],
   "source": [
    "pw._pwskills__price"
   ]
  },
  {
   "cell_type": "code",
   "execution_count": 68,
   "id": "9f2d7189",
   "metadata": {},
   "outputs": [
    {
     "ename": "AttributeError",
     "evalue": "'pwskills' object has no attribute '_pwskills__course'",
     "output_type": "error",
     "traceback": [
      "\u001b[1;31m---------------------------------------------------------------------------\u001b[0m",
      "\u001b[1;31mAttributeError\u001b[0m                            Traceback (most recent call last)",
      "\u001b[1;32m~\\AppData\\Local\\Temp/ipykernel_33024/3681709804.py\u001b[0m in \u001b[0;36m<module>\u001b[1;34m\u001b[0m\n\u001b[1;32m----> 1\u001b[1;33m \u001b[0mpw\u001b[0m\u001b[1;33m.\u001b[0m\u001b[0m_pwskills__course\u001b[0m\u001b[1;33m\u001b[0m\u001b[1;33m\u001b[0m\u001b[0m\n\u001b[0m",
      "\u001b[1;31mAttributeError\u001b[0m: 'pwskills' object has no attribute '_pwskills__course'"
     ]
    }
   ],
   "source": [
    "pw._pwskills__course"
   ]
  },
  {
   "cell_type": "code",
   "execution_count": 69,
   "id": "49d87df6",
   "metadata": {},
   "outputs": [
    {
     "data": {
      "text/plain": [
       "'DSM'"
      ]
     },
     "execution_count": 69,
     "metadata": {},
     "output_type": "execute_result"
    }
   ],
   "source": [
    "pw.course"
   ]
  },
  {
   "cell_type": "code",
   "execution_count": 70,
   "id": "67792cd7",
   "metadata": {},
   "outputs": [],
   "source": [
    "class pwskills:\n",
    "    def __init__(self, price, course):\n",
    "        self.__price = price\n",
    "        self.course = course\n",
    "    \n",
    "    @property\n",
    "    def price_access(self):\n",
    "        return self.__price"
   ]
  },
  {
   "cell_type": "code",
   "execution_count": 71,
   "id": "68b76749",
   "metadata": {},
   "outputs": [],
   "source": [
    "pw = pwskills(3500, \"DSM\")"
   ]
  },
  {
   "cell_type": "code",
   "execution_count": 72,
   "id": "ad39ad7b",
   "metadata": {},
   "outputs": [
    {
     "data": {
      "text/plain": [
       "3500"
      ]
     },
     "execution_count": 72,
     "metadata": {},
     "output_type": "execute_result"
    }
   ],
   "source": [
    "pw.price_access"
   ]
  },
  {
   "cell_type": "code",
   "execution_count": 73,
   "id": "8ee447c8",
   "metadata": {},
   "outputs": [
    {
     "data": {
      "text/plain": [
       "'DSM'"
      ]
     },
     "execution_count": 73,
     "metadata": {},
     "output_type": "execute_result"
    }
   ],
   "source": [
    "pw.course"
   ]
  },
  {
   "cell_type": "code",
   "execution_count": 96,
   "id": "862588f6",
   "metadata": {},
   "outputs": [],
   "source": [
    "class pwskills:\n",
    "    def __init__(self, price, course):\n",
    "        self.__price = price\n",
    "        self.course = course\n",
    "    \n",
    "    @property\n",
    "    def price_access(self):\n",
    "        return self.__price\n",
    "    \n",
    "    @price_access.setter\n",
    "    def price_set(self, price):\n",
    "        if price <= 3500:\n",
    "            pass\n",
    "        else:\n",
    "            self.__price = price\n",
    "            \n",
    "        @price_access.deleter\n",
    "        def delete_price(self):\n",
    "            del self.__price "
   ]
  },
  {
   "cell_type": "code",
   "execution_count": 97,
   "id": "0a0573be",
   "metadata": {},
   "outputs": [],
   "source": [
    "pw = pwskills(3500, \"DSM\")"
   ]
  },
  {
   "cell_type": "code",
   "execution_count": 92,
   "id": "fdc69c74",
   "metadata": {},
   "outputs": [
    {
     "data": {
      "text/plain": [
       "'DSM'"
      ]
     },
     "execution_count": 92,
     "metadata": {},
     "output_type": "execute_result"
    }
   ],
   "source": [
    "pw.course"
   ]
  },
  {
   "cell_type": "code",
   "execution_count": 98,
   "id": "38dccfb2",
   "metadata": {},
   "outputs": [
    {
     "data": {
      "text/plain": [
       "3500"
      ]
     },
     "execution_count": 98,
     "metadata": {},
     "output_type": "execute_result"
    }
   ],
   "source": [
    "pw.price_access"
   ]
  },
  {
   "cell_type": "code",
   "execution_count": 94,
   "id": "87838b62",
   "metadata": {},
   "outputs": [
    {
     "data": {
      "text/plain": [
       "3500"
      ]
     },
     "execution_count": 94,
     "metadata": {},
     "output_type": "execute_result"
    }
   ],
   "source": [
    "pw.price_set"
   ]
  },
  {
   "cell_type": "code",
   "execution_count": 100,
   "id": "da06b906",
   "metadata": {},
   "outputs": [
    {
     "ename": "AttributeError",
     "evalue": "delete_price",
     "output_type": "error",
     "traceback": [
      "\u001b[1;31m---------------------------------------------------------------------------\u001b[0m",
      "\u001b[1;31mAttributeError\u001b[0m                            Traceback (most recent call last)",
      "\u001b[1;32m~\\AppData\\Local\\Temp/ipykernel_33024/4044893810.py\u001b[0m in \u001b[0;36m<module>\u001b[1;34m\u001b[0m\n\u001b[1;32m----> 1\u001b[1;33m \u001b[1;32mdel\u001b[0m \u001b[0mpw\u001b[0m\u001b[1;33m.\u001b[0m\u001b[0mdelete_price\u001b[0m\u001b[1;33m\u001b[0m\u001b[1;33m\u001b[0m\u001b[0m\n\u001b[0m",
      "\u001b[1;31mAttributeError\u001b[0m: delete_price"
     ]
    }
   ],
   "source": [
    "del pw.delete_price"
   ]
  },
  {
   "cell_type": "code",
   "execution_count": 101,
   "id": "1c6f59e3",
   "metadata": {},
   "outputs": [
    {
     "data": {
      "text/plain": [
       "3500"
      ]
     },
     "execution_count": 101,
     "metadata": {},
     "output_type": "execute_result"
    }
   ],
   "source": [
    "pw.price_access"
   ]
  },
  {
   "cell_type": "code",
   "execution_count": null,
   "id": "8b8fad76",
   "metadata": {},
   "outputs": [],
   "source": []
  },
  {
   "cell_type": "code",
   "execution_count": null,
   "id": "67f06e59",
   "metadata": {},
   "outputs": [],
   "source": []
  },
  {
   "cell_type": "code",
   "execution_count": 82,
   "id": "fa8f6bcf",
   "metadata": {},
   "outputs": [
    {
     "data": {
      "text/plain": [
       "'DSM'"
      ]
     },
     "execution_count": 82,
     "metadata": {},
     "output_type": "execute_result"
    }
   ],
   "source": [
    "pw.course"
   ]
  },
  {
   "cell_type": "code",
   "execution_count": 83,
   "id": "9966c2be",
   "metadata": {},
   "outputs": [
    {
     "data": {
      "text/plain": [
       "3500"
      ]
     },
     "execution_count": 83,
     "metadata": {},
     "output_type": "execute_result"
    }
   ],
   "source": [
    "pw.price_access"
   ]
  },
  {
   "cell_type": "code",
   "execution_count": 84,
   "id": "4a05b930",
   "metadata": {},
   "outputs": [],
   "source": [
    "pw.price_set = 4000"
   ]
  },
  {
   "cell_type": "code",
   "execution_count": 79,
   "id": "771d7dd1",
   "metadata": {},
   "outputs": [
    {
     "data": {
      "text/plain": [
       "4000"
      ]
     },
     "execution_count": 79,
     "metadata": {},
     "output_type": "execute_result"
    }
   ],
   "source": [
    "pw.price_set"
   ]
  },
  {
   "cell_type": "code",
   "execution_count": 85,
   "id": "36ff3a26",
   "metadata": {},
   "outputs": [
    {
     "data": {
      "text/plain": [
       "3500"
      ]
     },
     "execution_count": 85,
     "metadata": {},
     "output_type": "execute_result"
    }
   ],
   "source": [
    "pw.price_access"
   ]
  },
  {
   "cell_type": "code",
   "execution_count": null,
   "id": "a77301ca",
   "metadata": {},
   "outputs": [],
   "source": []
  }
 ],
 "metadata": {
  "kernelspec": {
   "display_name": "Python 3 (ipykernel)",
   "language": "python",
   "name": "python3"
  },
  "language_info": {
   "codemirror_mode": {
    "name": "ipython",
    "version": 3
   },
   "file_extension": ".py",
   "mimetype": "text/x-python",
   "name": "python",
   "nbconvert_exporter": "python",
   "pygments_lexer": "ipython3",
   "version": "3.9.7"
  }
 },
 "nbformat": 4,
 "nbformat_minor": 5
}
