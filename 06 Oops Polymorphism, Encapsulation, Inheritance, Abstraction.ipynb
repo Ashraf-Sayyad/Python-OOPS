{
 "cells": [
  {
   "cell_type": "markdown",
   "id": "70e953b7",
   "metadata": {},
   "source": [
    "#Polymorphism"
   ]
  },
  {
   "cell_type": "code",
   "execution_count": 1,
   "id": "b2ce7d08",
   "metadata": {},
   "outputs": [],
   "source": [
    "def test(a,b):\n",
    "    return a+b"
   ]
  },
  {
   "cell_type": "code",
   "execution_count": 2,
   "id": "93092943",
   "metadata": {},
   "outputs": [
    {
     "data": {
      "text/plain": [
       "8"
      ]
     },
     "execution_count": 2,
     "metadata": {},
     "output_type": "execute_result"
    }
   ],
   "source": [
    "test(3,5)"
   ]
  },
  {
   "cell_type": "code",
   "execution_count": 3,
   "id": "ad5d919e",
   "metadata": {},
   "outputs": [
    {
     "data": {
      "text/plain": [
       "'ashubhai'"
      ]
     },
     "execution_count": 3,
     "metadata": {},
     "output_type": "execute_result"
    }
   ],
   "source": [
    "test(\"ashu\", \"bhai\")"
   ]
  },
  {
   "cell_type": "code",
   "execution_count": 4,
   "id": "2fc0e100",
   "metadata": {},
   "outputs": [
    {
     "data": {
      "text/plain": [
       "'ashu  bhai'"
      ]
     },
     "execution_count": 4,
     "metadata": {},
     "output_type": "execute_result"
    }
   ],
   "source": [
    "test(\"ashu \" ,\" bhai\")"
   ]
  },
  {
   "cell_type": "code",
   "execution_count": 5,
   "id": "3b3d8316",
   "metadata": {},
   "outputs": [
    {
     "data": {
      "text/plain": [
       "[3, 4, 5, 6, 4, 5, 6, 7]"
      ]
     },
     "execution_count": 5,
     "metadata": {},
     "output_type": "execute_result"
    }
   ],
   "source": [
    "test([3,4,5,6], [4,5,6,7])"
   ]
  },
  {
   "cell_type": "code",
   "execution_count": 6,
   "id": "856d919d",
   "metadata": {},
   "outputs": [],
   "source": [
    "class data_science:\n",
    "    def syllabus(self):\n",
    "        print(\"this is my syllabus for data science\")"
   ]
  },
  {
   "cell_type": "code",
   "execution_count": 7,
   "id": "0fca9bc4",
   "metadata": {},
   "outputs": [],
   "source": [
    "class web_dev:\n",
    "    def syllabus(self):\n",
    "        print(\"this is my syllabus for web dev \")"
   ]
  },
  {
   "cell_type": "code",
   "execution_count": 8,
   "id": "ab0ca74d",
   "metadata": {},
   "outputs": [],
   "source": [
    "def class_parcer(class_obj):\n",
    "    for i in class_obj:\n",
    "        i.syllabus()"
   ]
  },
  {
   "cell_type": "code",
   "execution_count": 9,
   "id": "847ab305",
   "metadata": {},
   "outputs": [],
   "source": [
    "data_science = data_science()\n"
   ]
  },
  {
   "cell_type": "code",
   "execution_count": 10,
   "id": "3215e5b9",
   "metadata": {},
   "outputs": [],
   "source": [
    "web_dev =web_dev()"
   ]
  },
  {
   "cell_type": "code",
   "execution_count": 11,
   "id": "59949154",
   "metadata": {},
   "outputs": [],
   "source": [
    "class_obj = [data_science , web_dev]"
   ]
  },
  {
   "cell_type": "code",
   "execution_count": 12,
   "id": "91ec4e45",
   "metadata": {},
   "outputs": [
    {
     "name": "stdout",
     "output_type": "stream",
     "text": [
      "this is my syllabus for data science\n",
      "this is my syllabus for web dev \n"
     ]
    }
   ],
   "source": [
    "class_parcer(class_obj)"
   ]
  },
  {
   "cell_type": "markdown",
   "id": "53ca201d",
   "metadata": {},
   "source": [
    "#Encapsulation"
   ]
  },
  {
   "cell_type": "code",
   "execution_count": 5,
   "id": "3767cab8",
   "metadata": {},
   "outputs": [
    {
     "ename": "SyntaxError",
     "evalue": "invalid syntax (Temp/ipykernel_21004/3412869373.py, line 3)",
     "output_type": "error",
     "traceback": [
      "\u001b[1;36m  File \u001b[1;32m\"C:\\Users\\ashra\\AppData\\Local\\Temp/ipykernel_21004/3412869373.py\"\u001b[1;36m, line \u001b[1;32m3\u001b[0m\n\u001b[1;33m    def__init__(self, a, b ):\u001b[0m\n\u001b[1;37m                             ^\u001b[0m\n\u001b[1;31mSyntaxError\u001b[0m\u001b[1;31m:\u001b[0m invalid syntax\n"
     ]
    }
   ],
   "source": [
    "class test:\n",
    "    \n",
    "    def__init__(self, a, b ):\n",
    "        self.a = a\n",
    "        self.b = b"
   ]
  },
  {
   "cell_type": "code",
   "execution_count": 6,
   "id": "8a588ab0",
   "metadata": {},
   "outputs": [],
   "source": [
    "class test :\n",
    "    \n",
    "     def __init__(self, a, b ):\n",
    "        self.a = a\n",
    "        self.b = b"
   ]
  },
  {
   "cell_type": "code",
   "execution_count": 7,
   "id": "e65a022f",
   "metadata": {},
   "outputs": [],
   "source": [
    "t = test(23,34)"
   ]
  },
  {
   "cell_type": "code",
   "execution_count": 8,
   "id": "f6469652",
   "metadata": {},
   "outputs": [],
   "source": [
    "t.a = 25364.355"
   ]
  },
  {
   "cell_type": "code",
   "execution_count": 9,
   "id": "fbe85ca0",
   "metadata": {},
   "outputs": [
    {
     "data": {
      "text/plain": [
       "25364.355"
      ]
     },
     "execution_count": 9,
     "metadata": {},
     "output_type": "execute_result"
    }
   ],
   "source": [
    "t.a"
   ]
  },
  {
   "cell_type": "code",
   "execution_count": 15,
   "id": "c7755bd3",
   "metadata": {},
   "outputs": [],
   "source": [
    "class car:\n",
    "    def __init__(self , year, make, model,speed ):\n",
    "        self.__year = year\n",
    "        self.__make = make\n",
    "        self.__model = model\n",
    "        self.speed = 0"
   ]
  },
  {
   "cell_type": "code",
   "execution_count": 16,
   "id": "69de65b3",
   "metadata": {},
   "outputs": [],
   "source": [
    "c = car(2021,\"Toyota\",\"Fortuner\",15)"
   ]
  },
  {
   "cell_type": "code",
   "execution_count": 20,
   "id": "2ce84f9b",
   "metadata": {},
   "outputs": [
    {
     "data": {
      "text/plain": [
       "2021"
      ]
     },
     "execution_count": 20,
     "metadata": {},
     "output_type": "execute_result"
    }
   ],
   "source": [
    "c._car__year\n",
    "#private class bn gya"
   ]
  },
  {
   "cell_type": "code",
   "execution_count": 22,
   "id": "39a8b33c",
   "metadata": {},
   "outputs": [],
   "source": [
    "class car:\n",
    "    def __init__(self , year, make, model,speed ):\n",
    "        self.__year = year\n",
    "        self.__make = make\n",
    "        self.__model = model\n",
    "        self.__speed = 0\n",
    "    def set_speed(self, speed):\n",
    "        self.__speed = 0 if speed <0 else speed\n",
    "        \n",
    "    def get_speed(self) :\n",
    "        return self.__speed"
   ]
  },
  {
   "cell_type": "code",
   "execution_count": 23,
   "id": "92f964a2",
   "metadata": {},
   "outputs": [],
   "source": [
    "c = car(2021,\"Toyota\",\"Fortuner\",15)"
   ]
  },
  {
   "cell_type": "code",
   "execution_count": 24,
   "id": "a54a7fca",
   "metadata": {},
   "outputs": [
    {
     "data": {
      "text/plain": [
       "2021"
      ]
     },
     "execution_count": 24,
     "metadata": {},
     "output_type": "execute_result"
    }
   ],
   "source": [
    "c._car__year"
   ]
  },
  {
   "cell_type": "code",
   "execution_count": 25,
   "id": "e03407f0",
   "metadata": {},
   "outputs": [],
   "source": [
    "c.set_speed(3245)"
   ]
  },
  {
   "cell_type": "code",
   "execution_count": 26,
   "id": "ba593748",
   "metadata": {
    "scrolled": true
   },
   "outputs": [
    {
     "data": {
      "text/plain": [
       "3245"
      ]
     },
     "execution_count": 26,
     "metadata": {},
     "output_type": "execute_result"
    }
   ],
   "source": [
    "c.get_speed()"
   ]
  },
  {
   "cell_type": "code",
   "execution_count": 28,
   "id": "70f6e2a5",
   "metadata": {},
   "outputs": [],
   "source": [
    "c.set_speed(-3565)"
   ]
  },
  {
   "cell_type": "code",
   "execution_count": 29,
   "id": "e4b75999",
   "metadata": {},
   "outputs": [
    {
     "data": {
      "text/plain": [
       "0"
      ]
     },
     "execution_count": 29,
     "metadata": {},
     "output_type": "execute_result"
    }
   ],
   "source": [
    "c.get_speed()"
   ]
  },
  {
   "cell_type": "code",
   "execution_count": 36,
   "id": "51fc26c7",
   "metadata": {},
   "outputs": [],
   "source": [
    "class bank_account:\n",
    "    def __init__(self,balance):\n",
    "        self.__balance = balance\n",
    "        \n",
    "    def deposite(self, amount):\n",
    "        self.__balance = self.__balance + amount\n",
    "    \n",
    "    def withdraw(self, amount):\n",
    "        if self.__balance >= amount :\n",
    "            self.__balance = self.__balance - amount\n",
    "            return True\n",
    "        else:\n",
    "            return False\n",
    "        \n",
    "    def get_balance(self):\n",
    "        return self.__balance"
   ]
  },
  {
   "cell_type": "code",
   "execution_count": 38,
   "id": "d878fec1",
   "metadata": {},
   "outputs": [],
   "source": [
    "ashraf = bank_account(100000)"
   ]
  },
  {
   "cell_type": "code",
   "execution_count": 39,
   "id": "f76577e0",
   "metadata": {},
   "outputs": [
    {
     "data": {
      "text/plain": [
       "100000"
      ]
     },
     "execution_count": 39,
     "metadata": {},
     "output_type": "execute_result"
    }
   ],
   "source": [
    "ashraf.get_balance()"
   ]
  },
  {
   "cell_type": "code",
   "execution_count": 40,
   "id": "7c35cf7a",
   "metadata": {},
   "outputs": [],
   "source": [
    "ashraf.deposite(50000)"
   ]
  },
  {
   "cell_type": "code",
   "execution_count": 41,
   "id": "ce4d8a4a",
   "metadata": {},
   "outputs": [
    {
     "data": {
      "text/plain": [
       "150000"
      ]
     },
     "execution_count": 41,
     "metadata": {},
     "output_type": "execute_result"
    }
   ],
   "source": [
    "ashraf.get_balance()"
   ]
  },
  {
   "cell_type": "code",
   "execution_count": 42,
   "id": "3cc9a9ba",
   "metadata": {},
   "outputs": [],
   "source": [
    "ashraf.deposite(50000)"
   ]
  },
  {
   "cell_type": "code",
   "execution_count": 43,
   "id": "8abe020c",
   "metadata": {},
   "outputs": [
    {
     "data": {
      "text/plain": [
       "200000"
      ]
     },
     "execution_count": 43,
     "metadata": {},
     "output_type": "execute_result"
    }
   ],
   "source": [
    "ashraf.get_balance()"
   ]
  },
  {
   "cell_type": "code",
   "execution_count": 44,
   "id": "695d0d36",
   "metadata": {},
   "outputs": [
    {
     "data": {
      "text/plain": [
       "False"
      ]
     },
     "execution_count": 44,
     "metadata": {},
     "output_type": "execute_result"
    }
   ],
   "source": [
    "ashraf.withdraw(250000)"
   ]
  },
  {
   "cell_type": "code",
   "execution_count": 45,
   "id": "214c5d08",
   "metadata": {},
   "outputs": [
    {
     "data": {
      "text/plain": [
       "True"
      ]
     },
     "execution_count": 45,
     "metadata": {},
     "output_type": "execute_result"
    }
   ],
   "source": [
    "ashraf.withdraw(50000)"
   ]
  },
  {
   "cell_type": "code",
   "execution_count": 46,
   "id": "0ede26a6",
   "metadata": {},
   "outputs": [
    {
     "data": {
      "text/plain": [
       "150000"
      ]
     },
     "execution_count": 46,
     "metadata": {},
     "output_type": "execute_result"
    }
   ],
   "source": [
    "ashraf.get_balance()"
   ]
  },
  {
   "cell_type": "code",
   "execution_count": 47,
   "id": "f94ddc25",
   "metadata": {},
   "outputs": [
    {
     "data": {
      "text/plain": [
       "150000"
      ]
     },
     "execution_count": 47,
     "metadata": {},
     "output_type": "execute_result"
    }
   ],
   "source": [
    "ashraf.get_balance()"
   ]
  },
  {
   "cell_type": "code",
   "execution_count": 48,
   "id": "4921d551",
   "metadata": {},
   "outputs": [],
   "source": [
    "#Hide karna hai implimentation, then __ laga do"
   ]
  },
  {
   "cell_type": "markdown",
   "id": "9dea25c4",
   "metadata": {},
   "source": [
    "#inheritance object orienting programming system"
   ]
  },
  {
   "cell_type": "code",
   "execution_count": 50,
   "id": "cd553e89",
   "metadata": {},
   "outputs": [],
   "source": [
    " class test:\n",
    "        def test_meth(self):\n",
    "            return \"this is class\""
   ]
  },
  {
   "cell_type": "code",
   "execution_count": 51,
   "id": "ac18dfef",
   "metadata": {},
   "outputs": [],
   "source": [
    "class child_test(test):\n",
    "    pass"
   ]
  },
  {
   "cell_type": "code",
   "execution_count": 52,
   "id": "4e989635",
   "metadata": {},
   "outputs": [],
   "source": [
    "child_test_obj = child_test()"
   ]
  },
  {
   "cell_type": "code",
   "execution_count": 53,
   "id": "d2f0b397",
   "metadata": {},
   "outputs": [
    {
     "data": {
      "text/plain": [
       "'this is class'"
      ]
     },
     "execution_count": 53,
     "metadata": {},
     "output_type": "execute_result"
    }
   ],
   "source": [
    "child_test_obj.test_meth()"
   ]
  },
  {
   "cell_type": "code",
   "execution_count": 54,
   "id": "b2876743",
   "metadata": {},
   "outputs": [],
   "source": [
    "#multi label inheritence"
   ]
  },
  {
   "cell_type": "code",
   "execution_count": 63,
   "id": "ad5b9577",
   "metadata": {},
   "outputs": [],
   "source": [
    "class class1:\n",
    "    \n",
    "    def test_class1(self):\n",
    "        return \"this is class1\"\n",
    "    "
   ]
  },
  {
   "cell_type": "code",
   "execution_count": 64,
   "id": "7b2c686f",
   "metadata": {},
   "outputs": [],
   "source": [
    "class class2(class1):\n",
    "    def test_class2(self):\n",
    "        return \"class2 this is \"\n",
    "    "
   ]
  },
  {
   "cell_type": "code",
   "execution_count": 65,
   "id": "33c82c23",
   "metadata": {},
   "outputs": [],
   "source": [
    "class class3(class2):\n",
    "    pass"
   ]
  },
  {
   "cell_type": "code",
   "execution_count": 66,
   "id": "bafdd198",
   "metadata": {},
   "outputs": [],
   "source": [
    "obj_class3 = class3()"
   ]
  },
  {
   "cell_type": "code",
   "execution_count": 68,
   "id": "72f35988",
   "metadata": {},
   "outputs": [
    {
     "data": {
      "text/plain": [
       "'this is class1'"
      ]
     },
     "execution_count": 68,
     "metadata": {},
     "output_type": "execute_result"
    }
   ],
   "source": [
    "obj_class3.test_class1()"
   ]
  },
  {
   "cell_type": "code",
   "execution_count": 69,
   "id": "08627602",
   "metadata": {},
   "outputs": [
    {
     "data": {
      "text/plain": [
       "'class2 this is '"
      ]
     },
     "execution_count": 69,
     "metadata": {},
     "output_type": "execute_result"
    }
   ],
   "source": [
    "obj_class3.test_class2()"
   ]
  },
  {
   "cell_type": "code",
   "execution_count": 70,
   "id": "79efca71",
   "metadata": {},
   "outputs": [],
   "source": [
    "#multiple inheritance"
   ]
  },
  {
   "cell_type": "code",
   "execution_count": 75,
   "id": "cab58cde",
   "metadata": {},
   "outputs": [],
   "source": [
    "class class1:\n",
    "    def test_class1(self):\n",
    "        return \"this is class1\""
   ]
  },
  {
   "cell_type": "code",
   "execution_count": 73,
   "id": "429c932b",
   "metadata": {},
   "outputs": [],
   "source": [
    "class class2:\n",
    "    def test_class2(self):\n",
    "        return \"this is class2\""
   ]
  },
  {
   "cell_type": "code",
   "execution_count": 76,
   "id": "a20995ca",
   "metadata": {},
   "outputs": [],
   "source": [
    "class class3(class1, class2):\n",
    "    pass"
   ]
  },
  {
   "cell_type": "code",
   "execution_count": 78,
   "id": "893639dc",
   "metadata": {},
   "outputs": [],
   "source": [
    "obj_class3 = class3()"
   ]
  },
  {
   "cell_type": "code",
   "execution_count": 79,
   "id": "7f45bf9b",
   "metadata": {},
   "outputs": [
    {
     "data": {
      "text/plain": [
       "'this is class1'"
      ]
     },
     "execution_count": 79,
     "metadata": {},
     "output_type": "execute_result"
    }
   ],
   "source": [
    "obj_class3.test_class1()"
   ]
  },
  {
   "cell_type": "code",
   "execution_count": 80,
   "id": "1d1e20c6",
   "metadata": {},
   "outputs": [
    {
     "data": {
      "text/plain": [
       "'this is class2'"
      ]
     },
     "execution_count": 80,
     "metadata": {},
     "output_type": "execute_result"
    }
   ],
   "source": [
    "obj_class3.test_class2()"
   ]
  },
  {
   "cell_type": "code",
   "execution_count": 81,
   "id": "f2a3166c",
   "metadata": {},
   "outputs": [],
   "source": [
    "#Abstraction-used - blueprint, skelton"
   ]
  },
  {
   "cell_type": "code",
   "execution_count": 84,
   "id": "9e068504",
   "metadata": {},
   "outputs": [],
   "source": [
    "import abc\n",
    "class pwskills:\n",
    "    \n",
    "    @abc.abstractmethod\n",
    "    def student_details(self):\n",
    "        pass\n",
    "    \n",
    "    @abc.abstractmethod\n",
    "    def student_assignment(self):\n",
    "        pass\n",
    "    \n",
    "    @abc.abstractmethod\n",
    "    def student_marks(self):\n",
    "        pass"
   ]
  },
  {
   "cell_type": "code",
   "execution_count": 85,
   "id": "c75de03c",
   "metadata": {},
   "outputs": [],
   "source": [
    "class student_details(pwskills):\n",
    "    \n",
    "    def student_details(self):\n",
    "        return \"this is method for details\"\n",
    "    \n",
    "    def student_assignment(self):\n",
    "        return \"this is method for assig perticular student\"\n",
    "    "
   ]
  },
  {
   "cell_type": "code",
   "execution_count": 86,
   "id": "24fcfbeb",
   "metadata": {},
   "outputs": [],
   "source": [
    "class data_science(pwskills):\n",
    "    \n",
    "    def student_details(self):\n",
    "        return \"this will return data science\"\n",
    "    \n",
    "    def student_assignment(self):\n",
    "        return \"this will give a student assignment details\""
   ]
  },
  {
   "cell_type": "code",
   "execution_count": 87,
   "id": "f393ca48",
   "metadata": {},
   "outputs": [
    {
     "data": {
      "text/plain": [
       "'this will return data science'"
      ]
     },
     "execution_count": 87,
     "metadata": {},
     "output_type": "execute_result"
    }
   ],
   "source": [
    "dsm = data_science()\n",
    "dsm.student_details()"
   ]
  },
  {
   "cell_type": "code",
   "execution_count": 88,
   "id": "a5bb6261",
   "metadata": {},
   "outputs": [
    {
     "data": {
      "text/plain": [
       "'this is method for details'"
      ]
     },
     "execution_count": 88,
     "metadata": {},
     "output_type": "execute_result"
    }
   ],
   "source": [
    "sd = student_details()\n",
    "sd.student_details()"
   ]
  },
  {
   "cell_type": "code",
   "execution_count": null,
   "id": "5238d318",
   "metadata": {},
   "outputs": [],
   "source": []
  }
 ],
 "metadata": {
  "kernelspec": {
   "display_name": "Python 3 (ipykernel)",
   "language": "python",
   "name": "python3"
  },
  "language_info": {
   "codemirror_mode": {
    "name": "ipython",
    "version": 3
   },
   "file_extension": ".py",
   "mimetype": "text/x-python",
   "name": "python",
   "nbconvert_exporter": "python",
   "pygments_lexer": "ipython3",
   "version": "3.9.7"
  }
 },
 "nbformat": 4,
 "nbformat_minor": 5
}
